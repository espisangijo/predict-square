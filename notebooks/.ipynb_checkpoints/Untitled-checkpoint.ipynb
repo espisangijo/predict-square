{
 "cells": [
  {
   "cell_type": "code",
   "execution_count": 10,
   "metadata": {},
   "outputs": [],
   "source": [
    "import sys\n",
    "import os\n",
    "import json\n",
    "\n",
    "from sklearn.svm import SVC\n",
    "from scipy import interpolate as inp\n",
    "import numpy as np\n",
    "\n",
    "sys.path.append('../')\n",
    "from predict_square.utils import interpolate, normalize"
   ]
  },
  {
   "cell_type": "markdown",
   "metadata": {},
   "source": [
    "## Load Data"
   ]
  },
  {
   "cell_type": "code",
   "execution_count": 2,
   "metadata": {},
   "outputs": [],
   "source": [
    "ROOT_DIR = os.path.dirname(os.path.abspath('.'))\n",
    "DATA_DIR = os.path.join(ROOT_DIR, 'data')"
   ]
  },
  {
   "cell_type": "code",
   "execution_count": 3,
   "metadata": {},
   "outputs": [],
   "source": [
    "with open(os.path.join(DATA_DIR, 'square.json'),'r') as f:\n",
    "    square_data = json.load(f)"
   ]
  },
  {
   "cell_type": "code",
   "execution_count": 11,
   "metadata": {},
   "outputs": [],
   "source": [
    "def interpolate(data, div):\n",
    "    time_data, x_data, y_data = [],[],[]\n",
    "    for time, x, y in data:\n",
    "        time_data.append(time)\n",
    "        x_data.append(x)\n",
    "        y_data.append(y)\n",
    "\n",
    "    step = (max(time_data) - min(time_data)) / div\n",
    "\n",
    "    fx = inp.interp1d(time_data, x_data)\n",
    "    fy = inp.interp1d(time_data, y_data)\n",
    "\n",
    "    points = np.arange(min(time_data), max(time_data), step)\n",
    "    xnew = fx(points)\n",
    "    ynew = fy(points)\n",
    "    print(step)\n",
    "    print(points)\n",
    "    print(xnew)\n",
    "    print(ynew)\n",
    "\n",
    "    return list(zip(points, xnew, ynew))\n"
   ]
  },
  {
   "cell_type": "code",
   "execution_count": 12,
   "metadata": {},
   "outputs": [
    {
     "name": "stdout",
     "output_type": "stream",
     "text": [
      "1.0\n",
      "[0.]\n",
      "[0.]\n",
      "[0.]\n",
      "[(0.0, 0.0, 0.0)]\n"
     ]
    }
   ],
   "source": [
    "normalized_data = normalize(square_data[\"data\"][0])\n",
    "print(interpolate(normalized_data, 100))"
   ]
  },
  {
   "cell_type": "code",
   "execution_count": null,
   "metadata": {},
   "outputs": [],
   "source": [
    "([1,2,3],[4,5,6])"
   ]
  },
  {
   "cell_type": "code",
   "execution_count": null,
   "metadata": {},
   "outputs": [],
   "source": [
    "clf = SVC(kernel='linear', random_state=42, probability=True)\n",
    "clf.fit(X, y)\n",
    "\n",
    "svm_filename = '../models/svm/'\n",
    "pickle.dump(clf, open(svm_filename, 'wb'))\n",
    "\n",
    "X_dev_tfidf = tfidf_vectorizer.transform(X_dev)\n",
    "\n",
    "predictions = clf.predict(X_dev_tfidf)\n",
    "confidence = clf.predict_proba(X_dev_tfidf)\n",
    "\n",
    "print(classification_report(y_dev, predictions, target_names=['Negative','Positive'], output_dict=True))\n",
    "\n",
    "\n"
   ]
  }
 ],
 "metadata": {
  "kernelspec": {
   "display_name": "sip",
   "language": "python",
   "name": "sip"
  },
  "language_info": {
   "codemirror_mode": {
    "name": "ipython",
    "version": 3
   },
   "file_extension": ".py",
   "mimetype": "text/x-python",
   "name": "python",
   "nbconvert_exporter": "python",
   "pygments_lexer": "ipython3",
   "version": "3.7.3"
  }
 },
 "nbformat": 4,
 "nbformat_minor": 4
}
