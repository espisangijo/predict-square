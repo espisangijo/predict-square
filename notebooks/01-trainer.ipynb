{
 "cells": [
  {
   "cell_type": "code",
   "execution_count": 1,
   "metadata": {},
   "outputs": [],
   "source": [
    "import sys\n",
    "import os\n",
    "import json\n",
    "import pickle\n",
    "\n",
    "from datetime import datetime\n",
    "\n",
    "from sklearn.svm import SVC\n",
    "from scipy import interpolate as inp\n",
    "import numpy as np\n",
    "\n",
    "sys.path.append('../')\n",
    "from predict_square.utils import interpolate, normalize, skinny\n",
    "from predict_square.constant import ROOT_DIR, DATA_DIR, MODEL_DIR"
   ]
  },
  {
   "cell_type": "markdown",
   "metadata": {},
   "source": [
    "## Load Data"
   ]
  },
  {
   "cell_type": "code",
   "execution_count": 3,
   "metadata": {},
   "outputs": [],
   "source": [
    "with open(os.path.join(DATA_DIR, 'square.json'),'r') as f:\n",
    "    square_data = json.load(f)\n",
    "    \n",
    "with open(os.path.join(DATA_DIR, 'notsquare.json'),'r') as f:\n",
    "    notsquare_data = json.load(f)\n",
    "    "
   ]
  },
  {
   "cell_type": "markdown",
   "metadata": {},
   "source": [
    "## Preprocess Data"
   ]
  },
  {
   "cell_type": "code",
   "execution_count": 4,
   "metadata": {},
   "outputs": [],
   "source": [
    "X_square, X_not_square = [], []\n",
    "for i in range(len(square_data[\"data\"])):\n",
    "    normalized_data = normalize(square_data[\"data\"][i])\n",
    "    interpolated_data = interpolate(normalized_data, 100)\n",
    "    skinny_data = skinny(interpolated_data)\n",
    "    X_square.append(skinny_data)\n",
    "    \n",
    "for i in range(len(notsquare_data[\"data\"])):\n",
    "    normalized_data = normalize(notsquare_data[\"data\"][i])\n",
    "    interpolated_data = interpolate(normalized_data, 100)\n",
    "    skinny_data = skinny(interpolated_data)\n",
    "    X_not_square.append(skinny_data)"
   ]
  },
  {
   "cell_type": "code",
   "execution_count": 5,
   "metadata": {},
   "outputs": [],
   "source": [
    "X = X_square + X_not_square"
   ]
  },
  {
   "cell_type": "code",
   "execution_count": 6,
   "metadata": {},
   "outputs": [],
   "source": [
    "y = ['square'] * 40 + ['nsquare'] * 40"
   ]
  },
  {
   "cell_type": "markdown",
   "metadata": {},
   "source": [
    "## Train Model"
   ]
  },
  {
   "cell_type": "code",
   "execution_count": null,
   "metadata": {},
   "outputs": [],
   "source": [
    "clf = SVC(kernel='linear', random_state=42, probability=True)\n",
    "clf.fit(X, y)\n",
    "\n",
    "model_name = 'svm'\n",
    "version = datetime.now().strftime('%Y%m%d%H%M')\n",
    "\n",
    "svm_filename = os.path.join(MODEL_DIR, model_name, version)\n",
    "pickle.dump(clf, open(svm_filename, 'wb'))"
   ]
  },
  {
   "cell_type": "markdown",
   "metadata": {},
   "source": [
    "## Predict using seen data"
   ]
  },
  {
   "cell_type": "code",
   "execution_count": null,
   "metadata": {},
   "outputs": [],
   "source": [
    "from predict_square.predict import Predictor\n",
    "\n",
    "p = Predictor()\n",
    "for i in range(40):\n",
    "    print(\"Actual: Not Square\\nPredicted: {}\\n\".format(p.predict_proba(notsquare_data[\"data\"][i])))\n",
    "    print(\"Actual: Square\\nPredicted: {}\\n\".format(p.predict_proba(square_data[\"data\"][i])))"
   ]
  }
 ],
 "metadata": {
  "kernelspec": {
   "display_name": "sip",
   "language": "python",
   "name": "sip"
  },
  "language_info": {
   "codemirror_mode": {
    "name": "ipython",
    "version": 3
   },
   "file_extension": ".py",
   "mimetype": "text/x-python",
   "name": "python",
   "nbconvert_exporter": "python",
   "pygments_lexer": "ipython3",
   "version": "3.7.3"
  }
 },
 "nbformat": 4,
 "nbformat_minor": 4
}
