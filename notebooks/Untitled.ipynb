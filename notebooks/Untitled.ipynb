{
 "cells": [
  {
   "cell_type": "code",
   "execution_count": 1,
   "metadata": {},
   "outputs": [],
   "source": [
    "import sys\n",
    "import os\n",
    "import json\n",
    "import pickle\n",
    "\n",
    "from datetime import datetime\n",
    "\n",
    "from sklearn.svm import SVC\n",
    "from scipy import interpolate as inp\n",
    "import numpy as np\n",
    "\n",
    "sys.path.append('../')\n",
    "from predict_square.utils import interpolate, normalize, skinny"
   ]
  },
  {
   "cell_type": "markdown",
   "metadata": {},
   "source": [
    "## Load Data"
   ]
  },
  {
   "cell_type": "code",
   "execution_count": 2,
   "metadata": {},
   "outputs": [],
   "source": [
    "ROOT_DIR = os.path.dirname(os.path.abspath('.'))\n",
    "DATA_DIR = os.path.join(ROOT_DIR, 'data')\n",
    "MODEL_DIR = os.path.join(ROOT_DIR, 'models')"
   ]
  },
  {
   "cell_type": "code",
   "execution_count": 3,
   "metadata": {},
   "outputs": [],
   "source": [
    "with open(os.path.join(DATA_DIR, 'square.json'),'r') as f:\n",
    "    square_data = json.load(f)\n",
    "    \n",
    "with open(os.path.join(DATA_DIR, 'notsquare.json'),'r') as f:\n",
    "    notsquare_data = json.load(f)\n",
    "    "
   ]
  },
  {
   "cell_type": "code",
   "execution_count": 4,
   "metadata": {},
   "outputs": [],
   "source": [
    "X_square, X_not_square = [], []\n",
    "for i in range(len(square_data[\"data\"])):\n",
    "    normalized_data = normalize(square_data[\"data\"][i])\n",
    "    interpolated_data = interpolate(normalized_data, 100)\n",
    "    skinny_data = skinny(interpolated_data)\n",
    "    X_square.append(skinny_data)\n",
    "    \n",
    "for i in range(len(notsquare_data[\"data\"])):\n",
    "    normalized_data = normalize(notsquare_data[\"data\"][i])\n",
    "    interpolated_data = interpolate(normalized_data, 100)\n",
    "    skinny_data = skinny(interpolated_data)\n",
    "    X_not_square.append(skinny_data)"
   ]
  },
  {
   "cell_type": "code",
   "execution_count": 5,
   "metadata": {},
   "outputs": [],
   "source": [
    "X = X_square + X_not_square"
   ]
  },
  {
   "cell_type": "code",
   "execution_count": 6,
   "metadata": {},
   "outputs": [],
   "source": [
    "y = ['square'] * 40 + ['nsquare'] * 40"
   ]
  },
  {
   "cell_type": "code",
   "execution_count": 10,
   "metadata": {},
   "outputs": [],
   "source": [
    "clf = SVC(kernel='linear', random_state=42, probability=True)\n",
    "clf.fit(X, y)\n",
    "\n",
    "model_name = 'svm'\n",
    "version = datetime.now().strftime('%Y%m%d%H%M')\n",
    "\n",
    "svm_filename = os.path.join(MODEL_DIR, model_name, version)\n",
    "pickle.dump(clf, open(svm_filename, 'wb'))\n",
    "\n",
    "\n",
    "\n"
   ]
  },
  {
   "cell_type": "code",
   "execution_count": 34,
   "metadata": {},
   "outputs": [
    {
     "name": "stdout",
     "output_type": "stream",
     "text": [
      "['square']\n",
      "['nsquare']\n",
      "['nsquare']\n",
      "['nsquare']\n",
      "['nsquare']\n",
      "['square']\n",
      "['square']\n",
      "['nsquare']\n",
      "['square']\n",
      "['nsquare']\n",
      "['nsquare']\n",
      "['nsquare']\n",
      "['nsquare']\n",
      "['nsquare']\n",
      "['nsquare']\n",
      "['nsquare']\n",
      "['nsquare']\n",
      "['nsquare']\n",
      "['nsquare']\n",
      "['nsquare']\n",
      "['nsquare']\n",
      "['nsquare']\n",
      "['nsquare']\n",
      "['nsquare']\n",
      "['nsquare']\n",
      "['square']\n",
      "['nsquare']\n",
      "['nsquare']\n",
      "['nsquare']\n",
      "['nsquare']\n",
      "['square']\n",
      "['nsquare']\n",
      "['nsquare']\n",
      "['nsquare']\n",
      "['nsquare']\n",
      "['nsquare']\n",
      "['nsquare']\n",
      "['nsquare']\n",
      "['nsquare']\n",
      "['square']\n"
     ]
    }
   ],
   "source": [
    "for i in range(40):\n",
    "    normalized_data = normalize(notsquare_data[\"data\"][i])\n",
    "    interpolated_data = interpolate(normalized_data, 100)\n",
    "    skinny_data = skinny(interpolated_data)\n",
    "    print(clf.predict([skinny_data]))"
   ]
  },
  {
   "cell_type": "code",
   "execution_count": 31,
   "metadata": {},
   "outputs": [
    {
     "data": {
      "text/plain": [
       "array(['square'], dtype='<U7')"
      ]
     },
     "execution_count": 31,
     "metadata": {},
     "output_type": "execute_result"
    }
   ],
   "source": []
  },
  {
   "cell_type": "code",
   "execution_count": null,
   "metadata": {},
   "outputs": [],
   "source": []
  },
  {
   "cell_type": "code",
   "execution_count": null,
   "metadata": {},
   "outputs": [],
   "source": []
  },
  {
   "cell_type": "code",
   "execution_count": 7,
   "metadata": {},
   "outputs": [],
   "source": [
    "from predict_square.predict import Predictor\n",
    "\n",
    "p = Predictor()"
   ]
  },
  {
   "cell_type": "code",
   "execution_count": 15,
   "metadata": {},
   "outputs": [
    {
     "ename": "ValueError",
     "evalue": "Expected 2D array, got 1D array instead:\narray=[1.         0.97647059 0.972      0.95547059 0.94117647 0.92382353\n 0.90423529 0.88041176 0.85270588 0.82694118 0.8        0.76470588\n 0.72941176 0.70311765 0.67058824 0.63529412 0.6        0.57647059\n 0.548      0.51764706 0.49098039 0.45894118 0.43458824 0.4\n 0.38164706 0.35294118 0.32941176 0.29411765 0.27058824 0.23529412\n 0.20352941 0.16905882 0.13482353 0.10270588 0.07058824 0.04705882\n 0.02352941 0.01176471 0.         0.         0.         0.00929412\n 0.01752941 0.03529412 0.04705882 0.06529412 0.08235294 0.10588235\n 0.136      0.15294118 0.17941176 0.21176471 0.24564706 0.27058824\n 0.30588235 0.32941176 0.36470588 0.4        0.43552941 0.46129412\n 0.50588235 0.53876471 0.57517647 0.61176471 0.64705882 0.68235294\n 0.70588235 0.72941176 0.75294118 0.77647059 0.8        0.82352941\n 0.82352941 0.83529412 0.84705882 0.84705882 0.85223529 0.85882353\n 0.85882353 0.84705882 0.84705882 0.83529412 0.82352941 0.81176471\n 0.8        0.78823529 0.77647059 0.76470588 0.75294118 0.74117647\n 0.72941176 0.726      0.71764706 0.70976471 0.69576471 0.68235294\n 0.67952941 0.65882353 0.64341176 0.62352941 0.29487179 0.28205128\n 0.26923077 0.25641026 0.23384615 0.21794872 0.20512821 0.17948718\n 0.16666667 0.14102564 0.11666667 0.10141026 0.07692308 0.06108974\n 0.03846154 0.02564103 0.01282051 0.01282051 0.         0.\n 0.0034188  0.01282051 0.02564103 0.02564103 0.03846154 0.06089744\n 0.07692308 0.1025641  0.12820513 0.16038462 0.21410256 0.25166667\n 0.31461538 0.37525641 0.44179487 0.49134615 0.54923077 0.60275641\n 0.64102564 0.67570513 0.71282051 0.74358974 0.78833333 0.82051282\n 0.85897436 0.88461538 0.91025641 0.93544872 0.95589744 0.9699359\n 0.9775641  0.98717949 0.98717949 1.         1.         1.\n 0.98717949 0.98717949 0.98717949 0.97435897 0.97435897 0.96153846\n 0.94871795 0.93589744 0.92307692 0.8974359  0.88461538 0.86070513\n 0.83384615 0.80769231 0.77371795 0.73730769 0.70923077 0.66666667\n 0.6274359  0.58974359 0.53846154 0.49192308 0.46153846 0.41012821\n 0.36923077 0.32833333 0.30025641 0.26923077 0.24358974 0.21794872\n 0.20076923 0.1825     0.16666667 0.16666667 0.15384615 0.15012821\n 0.14102564 0.14102564 0.14102564 0.12820513 0.12820513 0.12820513\n 0.12820513 0.12820513].\nReshape your data either using array.reshape(-1, 1) if your data has a single feature or array.reshape(1, -1) if it contains a single sample.",
     "output_type": "error",
     "traceback": [
      "\u001b[0;31m---------------------------------------------------------------------------\u001b[0m",
      "\u001b[0;31mValueError\u001b[0m                                Traceback (most recent call last)",
      "\u001b[0;32m<ipython-input-15-6ad2b39469ab>\u001b[0m in \u001b[0;36m<module>\u001b[0;34m\u001b[0m\n\u001b[0;32m----> 1\u001b[0;31m \u001b[0mp\u001b[0m\u001b[0;34m.\u001b[0m\u001b[0mpredict_proba\u001b[0m\u001b[0;34m(\u001b[0m\u001b[0mnotsquare_data\u001b[0m\u001b[0;34m[\u001b[0m\u001b[0;34m\"data\"\u001b[0m\u001b[0;34m]\u001b[0m\u001b[0;34m[\u001b[0m\u001b[0;36m0\u001b[0m\u001b[0;34m]\u001b[0m\u001b[0;34m)\u001b[0m\u001b[0;34m\u001b[0m\u001b[0;34m\u001b[0m\u001b[0m\n\u001b[0m",
      "\u001b[0;32m~/workspace/predict-square/predict_square/predict.py\u001b[0m in \u001b[0;36mpredict_proba\u001b[0;34m(self, data)\u001b[0m\n\u001b[1;32m     16\u001b[0m     \u001b[0;32mdef\u001b[0m \u001b[0mpredict_proba\u001b[0m\u001b[0;34m(\u001b[0m\u001b[0mself\u001b[0m\u001b[0;34m,\u001b[0m \u001b[0mdata\u001b[0m\u001b[0;34m)\u001b[0m\u001b[0;34m:\u001b[0m\u001b[0;34m\u001b[0m\u001b[0;34m\u001b[0m\u001b[0m\n\u001b[1;32m     17\u001b[0m         \u001b[0mdata\u001b[0m \u001b[0;34m=\u001b[0m \u001b[0mself\u001b[0m\u001b[0;34m.\u001b[0m\u001b[0m__preprocess\u001b[0m\u001b[0;34m(\u001b[0m\u001b[0mdata\u001b[0m\u001b[0;34m)\u001b[0m\u001b[0;34m\u001b[0m\u001b[0;34m\u001b[0m\u001b[0m\n\u001b[0;32m---> 18\u001b[0;31m         \u001b[0mprediction\u001b[0m \u001b[0;34m=\u001b[0m \u001b[0mself\u001b[0m\u001b[0;34m.\u001b[0m\u001b[0m__clf\u001b[0m\u001b[0;34m.\u001b[0m\u001b[0mpredict\u001b[0m\u001b[0;34m(\u001b[0m\u001b[0mdata\u001b[0m\u001b[0;34m)\u001b[0m\u001b[0;34m\u001b[0m\u001b[0;34m\u001b[0m\u001b[0m\n\u001b[0m\u001b[1;32m     19\u001b[0m \u001b[0;31m#         prediction_proba = self.__clf.predict_proba(data)\u001b[0m\u001b[0;34m\u001b[0m\u001b[0;34m\u001b[0m\u001b[0;34m\u001b[0m\u001b[0m\n\u001b[1;32m     20\u001b[0m \u001b[0;34m\u001b[0m\u001b[0m\n",
      "\u001b[0;32m~/workspace/predict-square/predict_square/classifier.py\u001b[0m in \u001b[0;36mpredict\u001b[0;34m(self, data)\u001b[0m\n\u001b[1;32m     57\u001b[0m         '''\n\u001b[1;32m     58\u001b[0m \u001b[0;34m\u001b[0m\u001b[0m\n\u001b[0;32m---> 59\u001b[0;31m         \u001b[0mmodel_results\u001b[0m \u001b[0;34m=\u001b[0m \u001b[0mself\u001b[0m\u001b[0;34m.\u001b[0m\u001b[0m__model\u001b[0m\u001b[0;34m.\u001b[0m\u001b[0mpredict\u001b[0m\u001b[0;34m(\u001b[0m\u001b[0mdata\u001b[0m\u001b[0;34m)\u001b[0m\u001b[0;34m\u001b[0m\u001b[0;34m\u001b[0m\u001b[0m\n\u001b[0m\u001b[1;32m     60\u001b[0m         \u001b[0;32mreturn\u001b[0m \u001b[0mmodel_results\u001b[0m\u001b[0;34m\u001b[0m\u001b[0;34m\u001b[0m\u001b[0m\n",
      "\u001b[0;32m~/anaconda3/lib/python3.7/site-packages/sklearn/svm/base.py\u001b[0m in \u001b[0;36mpredict\u001b[0;34m(self, X)\u001b[0m\n\u001b[1;32m    572\u001b[0m             \u001b[0mClass\u001b[0m \u001b[0mlabels\u001b[0m \u001b[0;32mfor\u001b[0m \u001b[0msamples\u001b[0m \u001b[0;32min\u001b[0m \u001b[0mX\u001b[0m\u001b[0;34m.\u001b[0m\u001b[0;34m\u001b[0m\u001b[0;34m\u001b[0m\u001b[0m\n\u001b[1;32m    573\u001b[0m         \"\"\"\n\u001b[0;32m--> 574\u001b[0;31m         \u001b[0my\u001b[0m \u001b[0;34m=\u001b[0m \u001b[0msuper\u001b[0m\u001b[0;34m(\u001b[0m\u001b[0;34m)\u001b[0m\u001b[0;34m.\u001b[0m\u001b[0mpredict\u001b[0m\u001b[0;34m(\u001b[0m\u001b[0mX\u001b[0m\u001b[0;34m)\u001b[0m\u001b[0;34m\u001b[0m\u001b[0;34m\u001b[0m\u001b[0m\n\u001b[0m\u001b[1;32m    575\u001b[0m         \u001b[0;32mreturn\u001b[0m \u001b[0mself\u001b[0m\u001b[0;34m.\u001b[0m\u001b[0mclasses_\u001b[0m\u001b[0;34m.\u001b[0m\u001b[0mtake\u001b[0m\u001b[0;34m(\u001b[0m\u001b[0mnp\u001b[0m\u001b[0;34m.\u001b[0m\u001b[0masarray\u001b[0m\u001b[0;34m(\u001b[0m\u001b[0my\u001b[0m\u001b[0;34m,\u001b[0m \u001b[0mdtype\u001b[0m\u001b[0;34m=\u001b[0m\u001b[0mnp\u001b[0m\u001b[0;34m.\u001b[0m\u001b[0mintp\u001b[0m\u001b[0;34m)\u001b[0m\u001b[0;34m)\u001b[0m\u001b[0;34m\u001b[0m\u001b[0;34m\u001b[0m\u001b[0m\n\u001b[1;32m    576\u001b[0m \u001b[0;34m\u001b[0m\u001b[0m\n",
      "\u001b[0;32m~/anaconda3/lib/python3.7/site-packages/sklearn/svm/base.py\u001b[0m in \u001b[0;36mpredict\u001b[0;34m(self, X)\u001b[0m\n\u001b[1;32m    320\u001b[0m         \u001b[0my_pred\u001b[0m \u001b[0;34m:\u001b[0m \u001b[0marray\u001b[0m\u001b[0;34m,\u001b[0m \u001b[0mshape\u001b[0m \u001b[0;34m(\u001b[0m\u001b[0mn_samples\u001b[0m\u001b[0;34m,\u001b[0m\u001b[0;34m)\u001b[0m\u001b[0;34m\u001b[0m\u001b[0;34m\u001b[0m\u001b[0m\n\u001b[1;32m    321\u001b[0m         \"\"\"\n\u001b[0;32m--> 322\u001b[0;31m         \u001b[0mX\u001b[0m \u001b[0;34m=\u001b[0m \u001b[0mself\u001b[0m\u001b[0;34m.\u001b[0m\u001b[0m_validate_for_predict\u001b[0m\u001b[0;34m(\u001b[0m\u001b[0mX\u001b[0m\u001b[0;34m)\u001b[0m\u001b[0;34m\u001b[0m\u001b[0;34m\u001b[0m\u001b[0m\n\u001b[0m\u001b[1;32m    323\u001b[0m         \u001b[0mpredict\u001b[0m \u001b[0;34m=\u001b[0m \u001b[0mself\u001b[0m\u001b[0;34m.\u001b[0m\u001b[0m_sparse_predict\u001b[0m \u001b[0;32mif\u001b[0m \u001b[0mself\u001b[0m\u001b[0;34m.\u001b[0m\u001b[0m_sparse\u001b[0m \u001b[0;32melse\u001b[0m \u001b[0mself\u001b[0m\u001b[0;34m.\u001b[0m\u001b[0m_dense_predict\u001b[0m\u001b[0;34m\u001b[0m\u001b[0;34m\u001b[0m\u001b[0m\n\u001b[1;32m    324\u001b[0m         \u001b[0;32mreturn\u001b[0m \u001b[0mpredict\u001b[0m\u001b[0;34m(\u001b[0m\u001b[0mX\u001b[0m\u001b[0;34m)\u001b[0m\u001b[0;34m\u001b[0m\u001b[0;34m\u001b[0m\u001b[0m\n",
      "\u001b[0;32m~/anaconda3/lib/python3.7/site-packages/sklearn/svm/base.py\u001b[0m in \u001b[0;36m_validate_for_predict\u001b[0;34m(self, X)\u001b[0m\n\u001b[1;32m    452\u001b[0m \u001b[0;34m\u001b[0m\u001b[0m\n\u001b[1;32m    453\u001b[0m         X = check_array(X, accept_sparse='csr', dtype=np.float64, order=\"C\",\n\u001b[0;32m--> 454\u001b[0;31m                         accept_large_sparse=False)\n\u001b[0m\u001b[1;32m    455\u001b[0m         \u001b[0;32mif\u001b[0m \u001b[0mself\u001b[0m\u001b[0;34m.\u001b[0m\u001b[0m_sparse\u001b[0m \u001b[0;32mand\u001b[0m \u001b[0;32mnot\u001b[0m \u001b[0msp\u001b[0m\u001b[0;34m.\u001b[0m\u001b[0misspmatrix\u001b[0m\u001b[0;34m(\u001b[0m\u001b[0mX\u001b[0m\u001b[0;34m)\u001b[0m\u001b[0;34m:\u001b[0m\u001b[0;34m\u001b[0m\u001b[0;34m\u001b[0m\u001b[0m\n\u001b[1;32m    456\u001b[0m             \u001b[0mX\u001b[0m \u001b[0;34m=\u001b[0m \u001b[0msp\u001b[0m\u001b[0;34m.\u001b[0m\u001b[0mcsr_matrix\u001b[0m\u001b[0;34m(\u001b[0m\u001b[0mX\u001b[0m\u001b[0;34m)\u001b[0m\u001b[0;34m\u001b[0m\u001b[0;34m\u001b[0m\u001b[0m\n",
      "\u001b[0;32m~/anaconda3/lib/python3.7/site-packages/sklearn/utils/validation.py\u001b[0m in \u001b[0;36mcheck_array\u001b[0;34m(array, accept_sparse, accept_large_sparse, dtype, order, copy, force_all_finite, ensure_2d, allow_nd, ensure_min_samples, ensure_min_features, warn_on_dtype, estimator)\u001b[0m\n\u001b[1;32m    519\u001b[0m                     \u001b[0;34m\"Reshape your data either using array.reshape(-1, 1) if \"\u001b[0m\u001b[0;34m\u001b[0m\u001b[0;34m\u001b[0m\u001b[0m\n\u001b[1;32m    520\u001b[0m                     \u001b[0;34m\"your data has a single feature or array.reshape(1, -1) \"\u001b[0m\u001b[0;34m\u001b[0m\u001b[0;34m\u001b[0m\u001b[0m\n\u001b[0;32m--> 521\u001b[0;31m                     \"if it contains a single sample.\".format(array))\n\u001b[0m\u001b[1;32m    522\u001b[0m \u001b[0;34m\u001b[0m\u001b[0m\n\u001b[1;32m    523\u001b[0m         \u001b[0;31m# in the future np.flexible dtypes will be handled like object dtypes\u001b[0m\u001b[0;34m\u001b[0m\u001b[0;34m\u001b[0m\u001b[0;34m\u001b[0m\u001b[0m\n",
      "\u001b[0;31mValueError\u001b[0m: Expected 2D array, got 1D array instead:\narray=[1.         0.97647059 0.972      0.95547059 0.94117647 0.92382353\n 0.90423529 0.88041176 0.85270588 0.82694118 0.8        0.76470588\n 0.72941176 0.70311765 0.67058824 0.63529412 0.6        0.57647059\n 0.548      0.51764706 0.49098039 0.45894118 0.43458824 0.4\n 0.38164706 0.35294118 0.32941176 0.29411765 0.27058824 0.23529412\n 0.20352941 0.16905882 0.13482353 0.10270588 0.07058824 0.04705882\n 0.02352941 0.01176471 0.         0.         0.         0.00929412\n 0.01752941 0.03529412 0.04705882 0.06529412 0.08235294 0.10588235\n 0.136      0.15294118 0.17941176 0.21176471 0.24564706 0.27058824\n 0.30588235 0.32941176 0.36470588 0.4        0.43552941 0.46129412\n 0.50588235 0.53876471 0.57517647 0.61176471 0.64705882 0.68235294\n 0.70588235 0.72941176 0.75294118 0.77647059 0.8        0.82352941\n 0.82352941 0.83529412 0.84705882 0.84705882 0.85223529 0.85882353\n 0.85882353 0.84705882 0.84705882 0.83529412 0.82352941 0.81176471\n 0.8        0.78823529 0.77647059 0.76470588 0.75294118 0.74117647\n 0.72941176 0.726      0.71764706 0.70976471 0.69576471 0.68235294\n 0.67952941 0.65882353 0.64341176 0.62352941 0.29487179 0.28205128\n 0.26923077 0.25641026 0.23384615 0.21794872 0.20512821 0.17948718\n 0.16666667 0.14102564 0.11666667 0.10141026 0.07692308 0.06108974\n 0.03846154 0.02564103 0.01282051 0.01282051 0.         0.\n 0.0034188  0.01282051 0.02564103 0.02564103 0.03846154 0.06089744\n 0.07692308 0.1025641  0.12820513 0.16038462 0.21410256 0.25166667\n 0.31461538 0.37525641 0.44179487 0.49134615 0.54923077 0.60275641\n 0.64102564 0.67570513 0.71282051 0.74358974 0.78833333 0.82051282\n 0.85897436 0.88461538 0.91025641 0.93544872 0.95589744 0.9699359\n 0.9775641  0.98717949 0.98717949 1.         1.         1.\n 0.98717949 0.98717949 0.98717949 0.97435897 0.97435897 0.96153846\n 0.94871795 0.93589744 0.92307692 0.8974359  0.88461538 0.86070513\n 0.83384615 0.80769231 0.77371795 0.73730769 0.70923077 0.66666667\n 0.6274359  0.58974359 0.53846154 0.49192308 0.46153846 0.41012821\n 0.36923077 0.32833333 0.30025641 0.26923077 0.24358974 0.21794872\n 0.20076923 0.1825     0.16666667 0.16666667 0.15384615 0.15012821\n 0.14102564 0.14102564 0.14102564 0.12820513 0.12820513 0.12820513\n 0.12820513 0.12820513].\nReshape your data either using array.reshape(-1, 1) if your data has a single feature or array.reshape(1, -1) if it contains a single sample."
     ]
    }
   ],
   "source": [
    "p.predict_proba(notsquare_data[\"data\"][0])"
   ]
  },
  {
   "cell_type": "code",
   "execution_count": null,
   "metadata": {},
   "outputs": [],
   "source": []
  }
 ],
 "metadata": {
  "kernelspec": {
   "display_name": "sip",
   "language": "python",
   "name": "sip"
  },
  "language_info": {
   "codemirror_mode": {
    "name": "ipython",
    "version": 3
   },
   "file_extension": ".py",
   "mimetype": "text/x-python",
   "name": "python",
   "nbconvert_exporter": "python",
   "pygments_lexer": "ipython3",
   "version": "3.7.3"
  }
 },
 "nbformat": 4,
 "nbformat_minor": 4
}
